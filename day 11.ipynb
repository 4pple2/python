{
 "cells": [
  {
   "cell_type": "code",
   "execution_count": 3,
   "id": "8e7e8e80",
   "metadata": {},
   "outputs": [],
   "source": [
    "# 블랙잭 게임 "
   ]
  },
  {
   "cell_type": "code",
   "execution_count": 34,
   "id": "d3c7ec32",
   "metadata": {},
   "outputs": [
    {
     "name": "stdout",
     "output_type": "stream",
     "text": [
      "사용자 승리\n"
     ]
    }
   ],
   "source": [
    "import random\n",
    "\n",
    "cards = [11, 2, 3, 4, 5, 6, 7, 8, 9, 10, 10, 10, 10]\n",
    "user = []\n",
    "dealer = []\n",
    "\n",
    "def gaming():\n",
    "    user.append(cards[random.randrange(0, 13)])\n",
    "    dealer.append(cards[random.randrange(0, 13)])\n",
    "\n",
    "def totaling():\n",
    "    total_user = sum(user)\n",
    "    total_dealer = sum(dealer)\n",
    "\n",
    "    if total_user <= 16:\n",
    "        gaming()\n",
    "        totaling()\n",
    "    else:\n",
    "        if total_user == total_dealer:\n",
    "            print(\"무승부\")\n",
    "        elif total_user > total_dealer:\n",
    "            print(\"사용자 승리\")\n",
    "        else:\n",
    "            print(\"딜러 승리\")\n",
    "\n",
    "gaming()\n",
    "gaming()\n",
    "totaling()"
   ]
  }
 ],
 "metadata": {
  "kernelspec": {
   "display_name": "Python 3 (ipykernel)",
   "language": "python",
   "name": "python3"
  },
  "language_info": {
   "codemirror_mode": {
    "name": "ipython",
    "version": 3
   },
   "file_extension": ".py",
   "mimetype": "text/x-python",
   "name": "python",
   "nbconvert_exporter": "python",
   "pygments_lexer": "ipython3",
   "version": "3.10.9"
  }
 },
 "nbformat": 4,
 "nbformat_minor": 5
}
