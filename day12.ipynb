{
 "cells": [
  {
   "cell_type": "code",
   "execution_count": 51,
   "id": "eb2230ca",
   "metadata": {},
   "outputs": [],
   "source": [
    "# 1~100 끼지의 숫자중에서 숫자를 맞추는 게임"
   ]
  },
  {
   "cell_type": "code",
   "execution_count": null,
   "id": "c60c640f",
   "metadata": {},
   "outputs": [
    {
     "name": "stdout",
     "output_type": "stream",
     "text": [
      "choose difficulty :(hard or easy)easy\n",
      "46\n",
      "숫자 선택해줘: 11\n",
      "this is highter  \n"
     ]
    }
   ],
   "source": [
    "import random\n",
    "random_int = random.randrange(1,100)\n",
    "difficulty = input(\"choose difficulty :(hard or easy)\" )\n",
    "print(random_int)\n",
    "think = 0\n",
    "num =1\n",
    "\n",
    "def guess():\n",
    "    global think\n",
    "    if think > random_int:\n",
    "        print(\"this is lower  \")\n",
    "    elif think < random_int:\n",
    "        print(\"this is highter  \")\n",
    "    else:\n",
    "        think = random_int\n",
    "        print(\"answer!\")\n",
    "    \n",
    "\n",
    "\n",
    "if difficulty == \"hard\":\n",
    "    global num \n",
    "    while num < 6:\n",
    "        think = int(input(\"숫자 선택해줘: \"))\n",
    "        guess()\n",
    "        if think == random_int:\n",
    "            break;\n",
    "        num += 1\n",
    "else:\n",
    "    while num < 11:\n",
    "        think = int(input(\"숫자 선택해줘: \"))\n",
    "        guess()\n",
    "        if think == random_int:\n",
    "            break;\n",
    "        num += 1"
   ]
  }
 ],
 "metadata": {
  "kernelspec": {
   "display_name": "Python 3 (ipykernel)",
   "language": "python",
   "name": "python3"
  },
  "language_info": {
   "codemirror_mode": {
    "name": "ipython",
    "version": 3
   },
   "file_extension": ".py",
   "mimetype": "text/x-python",
   "name": "python",
   "nbconvert_exporter": "python",
   "pygments_lexer": "ipython3",
   "version": "3.10.9"
  }
 },
 "nbformat": 4,
 "nbformat_minor": 5
}
